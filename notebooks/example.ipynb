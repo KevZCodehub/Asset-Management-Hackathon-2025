{
 "cells": [
  {
   "cell_type": "markdown",
   "metadata": {},
   "source": [
    "# Asset Management Hackathon - Example Notebook\n",
    "\n",
    "This notebook demonstrates how to load and work with the dataset using the data_loader utility.\n"
   ]
  },
  {
   "cell_type": "code",
   "execution_count": 1,
   "metadata": {},
   "outputs": [],
   "source": [
    "# Add src/ to path so we can import our data_loader\n",
    "import sys\n",
    "sys.path.append(\"../src\")\n",
    "\n",
    "from data_loader import load_data\n"
   ]
  },
  {
   "cell_type": "code",
   "execution_count": 2,
   "metadata": {},
   "outputs": [
    {
     "name": "stdout",
     "output_type": "stream",
     "text": [
      "Loading data from: /Users/kevin/Coding Projects/Asset-Management-Hackathon-2025/data/sample.csv\n",
      "Dataset shape: (9, 6)\n"
     ]
    },
    {
     "data": {
      "text/html": [
       "<div>\n",
       "<style scoped>\n",
       "    .dataframe tbody tr th:only-of-type {\n",
       "        vertical-align: middle;\n",
       "    }\n",
       "\n",
       "    .dataframe tbody tr th {\n",
       "        vertical-align: top;\n",
       "    }\n",
       "\n",
       "    .dataframe thead th {\n",
       "        text-align: right;\n",
       "    }\n",
       "</style>\n",
       "<table border=\"1\" class=\"dataframe\">\n",
       "  <thead>\n",
       "    <tr style=\"text-align: right;\">\n",
       "      <th></th>\n",
       "      <th>date</th>\n",
       "      <th>asset_id</th>\n",
       "      <th>asset_name</th>\n",
       "      <th>price</th>\n",
       "      <th>volume</th>\n",
       "      <th>market_cap</th>\n",
       "    </tr>\n",
       "  </thead>\n",
       "  <tbody>\n",
       "    <tr>\n",
       "      <th>0</th>\n",
       "      <td>2024-01-01</td>\n",
       "      <td>AAPL</td>\n",
       "      <td>Apple Inc</td>\n",
       "      <td>150.25</td>\n",
       "      <td>1000000</td>\n",
       "      <td>2500000000000</td>\n",
       "    </tr>\n",
       "    <tr>\n",
       "      <th>1</th>\n",
       "      <td>2024-01-01</td>\n",
       "      <td>MSFT</td>\n",
       "      <td>Microsoft Corp</td>\n",
       "      <td>300.50</td>\n",
       "      <td>800000</td>\n",
       "      <td>2200000000000</td>\n",
       "    </tr>\n",
       "    <tr>\n",
       "      <th>2</th>\n",
       "      <td>2024-01-01</td>\n",
       "      <td>GOOGL</td>\n",
       "      <td>Alphabet Inc</td>\n",
       "      <td>2800.75</td>\n",
       "      <td>500000</td>\n",
       "      <td>1800000000000</td>\n",
       "    </tr>\n",
       "    <tr>\n",
       "      <th>3</th>\n",
       "      <td>2024-01-02</td>\n",
       "      <td>AAPL</td>\n",
       "      <td>Apple Inc</td>\n",
       "      <td>152.30</td>\n",
       "      <td>1200000</td>\n",
       "      <td>2550000000000</td>\n",
       "    </tr>\n",
       "    <tr>\n",
       "      <th>4</th>\n",
       "      <td>2024-01-02</td>\n",
       "      <td>MSFT</td>\n",
       "      <td>Microsoft Corp</td>\n",
       "      <td>302.10</td>\n",
       "      <td>900000</td>\n",
       "      <td>2220000000000</td>\n",
       "    </tr>\n",
       "  </tbody>\n",
       "</table>\n",
       "</div>"
      ],
      "text/plain": [
       "         date asset_id      asset_name    price   volume     market_cap\n",
       "0  2024-01-01     AAPL       Apple Inc   150.25  1000000  2500000000000\n",
       "1  2024-01-01     MSFT  Microsoft Corp   300.50   800000  2200000000000\n",
       "2  2024-01-01    GOOGL    Alphabet Inc  2800.75   500000  1800000000000\n",
       "3  2024-01-02     AAPL       Apple Inc   152.30  1200000  2550000000000\n",
       "4  2024-01-02     MSFT  Microsoft Corp   302.10   900000  2220000000000"
      ]
     },
     "execution_count": 2,
     "metadata": {},
     "output_type": "execute_result"
    }
   ],
   "source": [
    "# Load the dataset\n",
    "df = load_data()\n",
    "print(f\"Dataset shape: {df.shape}\")\n",
    "df.head()\n"
   ]
  },
  {
   "cell_type": "code",
   "execution_count": 3,
   "metadata": {},
   "outputs": [
    {
     "name": "stdout",
     "output_type": "stream",
     "text": [
      "Dataset Info:\n",
      "<class 'pandas.core.frame.DataFrame'>\n",
      "RangeIndex: 9 entries, 0 to 8\n",
      "Data columns (total 6 columns):\n",
      " #   Column      Non-Null Count  Dtype  \n",
      "---  ------      --------------  -----  \n",
      " 0   date        9 non-null      object \n",
      " 1   asset_id    9 non-null      object \n",
      " 2   asset_name  9 non-null      object \n",
      " 3   price       9 non-null      float64\n",
      " 4   volume      9 non-null      int64  \n",
      " 5   market_cap  9 non-null      int64  \n",
      "dtypes: float64(1), int64(2), object(3)\n",
      "memory usage: 560.0+ bytes\n",
      "None\n",
      "\n",
      "Basic Statistics:\n",
      "             price        volume    market_cap\n",
      "count     9.000000  9.000000e+00  9.000000e+00\n",
      "mean   1084.894444  8.333333e+05  2.174444e+12\n",
      "std    1290.786963  2.462214e+05  3.045534e+11\n",
      "min     148.900000  5.000000e+05  1.800000e+12\n",
      "25%     152.300000  6.000000e+05  1.820000e+12\n",
      "50%     300.500000  8.500000e+05  2.200000e+12\n",
      "75%    2795.300000  1.000000e+06  2.480000e+12\n",
      "max    2815.200000  1.200000e+06  2.550000e+12\n"
     ]
    }
   ],
   "source": [
    "# Basic data exploration\n",
    "print(\"Dataset Info:\")\n",
    "print(df.info())\n",
    "print(\"\\nBasic Statistics:\")\n",
    "print(df.describe())\n"
   ]
  },
  {
   "cell_type": "code",
   "execution_count": 4,
   "metadata": {},
   "outputs": [
    {
     "data": {
      "image/png": "[encoded data removed]",
      "text/plain": [
       "<Figure size 1200x600 with 1 Axes>"
      ]
     },
     "metadata": {},
     "output_type": "display_data"
    }
   ],
   "source": [
    "# Plot price trends\n",
    "import matplotlib.pyplot as plt\n",
    "\n",
    "plt.figure(figsize=(12, 6))\n",
    "for asset in df['asset_id'].unique():\n",
    "    asset_data = df[df['asset_id'] == asset]\n",
    "    plt.plot(asset_data['date'], asset_data['price'], label=asset, marker='o')\n",
    "\n",
    "plt.title('Asset Price Trends')\n",
    "plt.xlabel('Date')\n",
    "plt.ylabel('Price')\n",
    "plt.legend()\n",
    "plt.xticks(rotation=45)\n",
    "plt.tight_layout()\n",
    "plt.show()\n"
   ]
  },
  {
   "cell_type": "code",
   "execution_count": null,
   "metadata": {},
   "outputs": [],
   "source": []
  }
 ],
 "metadata": {
  "kernelspec": {
   "display_name": "Python 3 (ipykernel)",
   "language": "python",
   "name": "python3"
  },
  "language_info": {
   "codemirror_mode": {
    "name": "ipython",
    "version": 3
   },
   "file_extension": ".py",
   "mimetype": "text/x-python",
   "name": "python",
   "nbconvert_exporter": "python",
   "pygments_lexer": "ipython3",
   "version": "3.9.6"
  }
 },
 "nbformat": 4,
 "nbformat_minor": 4
}
